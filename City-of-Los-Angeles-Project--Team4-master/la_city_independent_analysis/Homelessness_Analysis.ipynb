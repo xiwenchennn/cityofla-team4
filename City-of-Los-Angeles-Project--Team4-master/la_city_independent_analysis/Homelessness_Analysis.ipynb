{
 "cells": [
  {
   "cell_type": "code",
   "execution_count": 1,
   "metadata": {
    "collapsed": true
   },
   "outputs": [],
   "source": [
    "import pandas as pd\n",
    "import seaborn as sns\n",
    "\n",
    "% matplotlib inline"
   ]
  },
  {
   "cell_type": "markdown",
   "metadata": {},
   "source": [
    "#### Importing 2017 Homelessness Data\n",
    "\n",
    "Sourced from [LAHSA](https://www.lahsa.org/documents?id=1495-homeless-count-2017-results-by-census-tract.xlsx)"
   ]
  },
  {
   "cell_type": "code",
   "execution_count": 2,
   "metadata": {},
   "outputs": [],
   "source": [
    "xl = pd.ExcelFile(\"data/homeless-count-2017-results-by-census-tract.xlsx\")"
   ]
  },
  {
   "cell_type": "code",
   "execution_count": 3,
   "metadata": {},
   "outputs": [],
   "source": [
    "master_df = xl.parse(\"Count_by_Tract\")"
   ]
  },
  {
   "cell_type": "code",
   "execution_count": 4,
   "metadata": {},
   "outputs": [
    {
     "data": {
      "text/html": [
       "<div>\n",
       "<table border=\"1\" class=\"dataframe\">\n",
       "  <thead>\n",
       "    <tr style=\"text-align: right;\">\n",
       "      <th></th>\n",
       "      <th>tract</th>\n",
       "      <th>Year</th>\n",
       "      <th>City</th>\n",
       "      <th>LACity</th>\n",
       "      <th>Community_Name</th>\n",
       "      <th>Detailed_Name</th>\n",
       "      <th>SPA</th>\n",
       "      <th>SD</th>\n",
       "      <th>CD</th>\n",
       "      <th>ca_ssd</th>\n",
       "      <th>...</th>\n",
       "      <th>totSHYouthSingYouth</th>\n",
       "      <th>totSHYouthFamHH</th>\n",
       "      <th>totSHYouthFamMem</th>\n",
       "      <th>totSHYouthUnaccYouth</th>\n",
       "      <th>totUnsheltPeople</th>\n",
       "      <th>totESPeople</th>\n",
       "      <th>totTHPeople</th>\n",
       "      <th>totSHPeople</th>\n",
       "      <th>totSheltPeople</th>\n",
       "      <th>totPeople</th>\n",
       "    </tr>\n",
       "  </thead>\n",
       "  <tbody>\n",
       "    <tr>\n",
       "      <th>0</th>\n",
       "      <td>101110</td>\n",
       "      <td>2017</td>\n",
       "      <td>Los Angeles</td>\n",
       "      <td>1</td>\n",
       "      <td>Sunland-Tujunga</td>\n",
       "      <td>Sunland-Tujunga NC</td>\n",
       "      <td>2</td>\n",
       "      <td>5</td>\n",
       "      <td>7</td>\n",
       "      <td>25</td>\n",
       "      <td>...</td>\n",
       "      <td>0</td>\n",
       "      <td>0</td>\n",
       "      <td>0</td>\n",
       "      <td>0</td>\n",
       "      <td>1.000</td>\n",
       "      <td>0</td>\n",
       "      <td>0</td>\n",
       "      <td>0</td>\n",
       "      <td>0</td>\n",
       "      <td>1.000</td>\n",
       "    </tr>\n",
       "    <tr>\n",
       "      <th>1</th>\n",
       "      <td>101122</td>\n",
       "      <td>2017</td>\n",
       "      <td>Los Angeles</td>\n",
       "      <td>1</td>\n",
       "      <td>Sunland-Tujunga</td>\n",
       "      <td>Sunland-Tujunga NC</td>\n",
       "      <td>2</td>\n",
       "      <td>5</td>\n",
       "      <td>7</td>\n",
       "      <td>25</td>\n",
       "      <td>...</td>\n",
       "      <td>0</td>\n",
       "      <td>0</td>\n",
       "      <td>0</td>\n",
       "      <td>0</td>\n",
       "      <td>0.000</td>\n",
       "      <td>0</td>\n",
       "      <td>0</td>\n",
       "      <td>0</td>\n",
       "      <td>0</td>\n",
       "      <td>0.000</td>\n",
       "    </tr>\n",
       "    <tr>\n",
       "      <th>2</th>\n",
       "      <td>101210</td>\n",
       "      <td>2017</td>\n",
       "      <td>Los Angeles</td>\n",
       "      <td>1</td>\n",
       "      <td>Sunland-Tujunga</td>\n",
       "      <td>Sunland-Tujunga NC</td>\n",
       "      <td>2</td>\n",
       "      <td>5</td>\n",
       "      <td>7</td>\n",
       "      <td>25</td>\n",
       "      <td>...</td>\n",
       "      <td>0</td>\n",
       "      <td>0</td>\n",
       "      <td>0</td>\n",
       "      <td>0</td>\n",
       "      <td>5.095</td>\n",
       "      <td>0</td>\n",
       "      <td>0</td>\n",
       "      <td>0</td>\n",
       "      <td>0</td>\n",
       "      <td>5.095</td>\n",
       "    </tr>\n",
       "    <tr>\n",
       "      <th>3</th>\n",
       "      <td>101220</td>\n",
       "      <td>2017</td>\n",
       "      <td>Los Angeles</td>\n",
       "      <td>1</td>\n",
       "      <td>Sunland-Tujunga</td>\n",
       "      <td>Sunland-Tujunga NC</td>\n",
       "      <td>2</td>\n",
       "      <td>5</td>\n",
       "      <td>7</td>\n",
       "      <td>25</td>\n",
       "      <td>...</td>\n",
       "      <td>0</td>\n",
       "      <td>0</td>\n",
       "      <td>0</td>\n",
       "      <td>0</td>\n",
       "      <td>34.000</td>\n",
       "      <td>0</td>\n",
       "      <td>0</td>\n",
       "      <td>0</td>\n",
       "      <td>0</td>\n",
       "      <td>34.000</td>\n",
       "    </tr>\n",
       "    <tr>\n",
       "      <th>4</th>\n",
       "      <td>101300</td>\n",
       "      <td>2017</td>\n",
       "      <td>Los Angeles</td>\n",
       "      <td>1</td>\n",
       "      <td>Sunland-Tujunga</td>\n",
       "      <td>Sunland-Tujunga NC</td>\n",
       "      <td>2</td>\n",
       "      <td>5</td>\n",
       "      <td>7</td>\n",
       "      <td>25</td>\n",
       "      <td>...</td>\n",
       "      <td>0</td>\n",
       "      <td>0</td>\n",
       "      <td>0</td>\n",
       "      <td>0</td>\n",
       "      <td>20.108</td>\n",
       "      <td>0</td>\n",
       "      <td>0</td>\n",
       "      <td>0</td>\n",
       "      <td>0</td>\n",
       "      <td>20.108</td>\n",
       "    </tr>\n",
       "  </tbody>\n",
       "</table>\n",
       "<p>5 rows × 73 columns</p>\n",
       "</div>"
      ],
      "text/plain": [
       "    tract  Year         City  LACity   Community_Name       Detailed_Name  \\\n",
       "0  101110  2017  Los Angeles       1  Sunland-Tujunga  Sunland-Tujunga NC   \n",
       "1  101122  2017  Los Angeles       1  Sunland-Tujunga  Sunland-Tujunga NC   \n",
       "2  101210  2017  Los Angeles       1  Sunland-Tujunga  Sunland-Tujunga NC   \n",
       "3  101220  2017  Los Angeles       1  Sunland-Tujunga  Sunland-Tujunga NC   \n",
       "4  101300  2017  Los Angeles       1  Sunland-Tujunga  Sunland-Tujunga NC   \n",
       "\n",
       "   SPA  SD  CD  ca_ssd    ...      totSHYouthSingYouth  totSHYouthFamHH  \\\n",
       "0    2   5   7      25    ...                        0                0   \n",
       "1    2   5   7      25    ...                        0                0   \n",
       "2    2   5   7      25    ...                        0                0   \n",
       "3    2   5   7      25    ...                        0                0   \n",
       "4    2   5   7      25    ...                        0                0   \n",
       "\n",
       "   totSHYouthFamMem  totSHYouthUnaccYouth  totUnsheltPeople  totESPeople  \\\n",
       "0                 0                     0             1.000            0   \n",
       "1                 0                     0             0.000            0   \n",
       "2                 0                     0             5.095            0   \n",
       "3                 0                     0            34.000            0   \n",
       "4                 0                     0            20.108            0   \n",
       "\n",
       "   totTHPeople  totSHPeople  totSheltPeople  totPeople  \n",
       "0            0            0               0      1.000  \n",
       "1            0            0               0      0.000  \n",
       "2            0            0               0      5.095  \n",
       "3            0            0               0     34.000  \n",
       "4            0            0               0     20.108  \n",
       "\n",
       "[5 rows x 73 columns]"
      ]
     },
     "execution_count": 4,
     "metadata": {},
     "output_type": "execute_result"
    }
   ],
   "source": [
    "master_df.head()"
   ]
  },
  {
   "cell_type": "code",
   "execution_count": 5,
   "metadata": {
    "collapsed": true
   },
   "outputs": [],
   "source": [
    "master_df = master_df[master_df.LACity == 1]"
   ]
  },
  {
   "cell_type": "markdown",
   "metadata": {},
   "source": [
    "#### Aggregating supplemental data"
   ]
  },
  {
   "cell_type": "markdown",
   "metadata": {},
   "source": [
    "Aggregating 311 Call Data - Sourced from [Socrata](https://data.lacity.org/A-Well-Run-City/311-Homeless-Encampments-Requests/az43-p47q)"
   ]
  },
  {
   "cell_type": "code",
   "execution_count": 6,
   "metadata": {},
   "outputs": [
    {
     "data": {
      "text/html": [
       "<div>\n",
       "<table border=\"1\" class=\"dataframe\">\n",
       "  <thead>\n",
       "    <tr style=\"text-align: right;\">\n",
       "      <th></th>\n",
       "      <th>SRNUMBER</th>\n",
       "      <th>CREATEDDATE</th>\n",
       "      <th>UPDATEDDATE</th>\n",
       "      <th>ACTIONTAKEN</th>\n",
       "      <th>OWNER</th>\n",
       "      <th>REQUESTTYPE</th>\n",
       "      <th>STATUS</th>\n",
       "      <th>REQUESTSOURCE</th>\n",
       "      <th>MOBILEOS</th>\n",
       "      <th>ANONYMOUS</th>\n",
       "      <th>...</th>\n",
       "      <th>geometry</th>\n",
       "      <th>index_right</th>\n",
       "      <th>CT10</th>\n",
       "      <th>GEOID10</th>\n",
       "      <th>LABEL</th>\n",
       "      <th>OBJECTID</th>\n",
       "      <th>Shape_STAr</th>\n",
       "      <th>Shape_STLe</th>\n",
       "      <th>X_Center</th>\n",
       "      <th>Y_Center</th>\n",
       "    </tr>\n",
       "  </thead>\n",
       "  <tbody>\n",
       "    <tr>\n",
       "      <th>0</th>\n",
       "      <td>1-482531983</td>\n",
       "      <td>03/13/2017 12:05:01 PM</td>\n",
       "      <td>03/16/2017 02:49:57 PM</td>\n",
       "      <td>SR Created</td>\n",
       "      <td>BOS</td>\n",
       "      <td>Homeless Encampment</td>\n",
       "      <td>Closed</td>\n",
       "      <td>Mobile App</td>\n",
       "      <td>iOS</td>\n",
       "      <td>N</td>\n",
       "      <td>...</td>\n",
       "      <td>POINT (-118.361314081 34.0775399484)</td>\n",
       "      <td>1561</td>\n",
       "      <td>214400</td>\n",
       "      <td>6037214400</td>\n",
       "      <td>2144.0</td>\n",
       "      <td>1563</td>\n",
       "      <td>3.705377e+06</td>\n",
       "      <td>7957.457331</td>\n",
       "      <td>6453462.0</td>\n",
       "      <td>1851021.0</td>\n",
       "    </tr>\n",
       "    <tr>\n",
       "      <th>1</th>\n",
       "      <td>1-483651191</td>\n",
       "      <td>03/14/2017 10:41:53 AM</td>\n",
       "      <td>03/16/2017 03:34:03 PM</td>\n",
       "      <td>SR Created</td>\n",
       "      <td>BOS</td>\n",
       "      <td>Homeless Encampment</td>\n",
       "      <td>Closed</td>\n",
       "      <td>Self Service</td>\n",
       "      <td>NaN</td>\n",
       "      <td>Y</td>\n",
       "      <td>...</td>\n",
       "      <td>POINT (-118.361305439 34.0765199339)</td>\n",
       "      <td>1561</td>\n",
       "      <td>214400</td>\n",
       "      <td>6037214400</td>\n",
       "      <td>2144.0</td>\n",
       "      <td>1563</td>\n",
       "      <td>3.705377e+06</td>\n",
       "      <td>7957.457331</td>\n",
       "      <td>6453462.0</td>\n",
       "      <td>1851021.0</td>\n",
       "    </tr>\n",
       "    <tr>\n",
       "      <th>2</th>\n",
       "      <td>1-484262051</td>\n",
       "      <td>03/14/2017 03:07:59 PM</td>\n",
       "      <td>03/16/2017 03:36:55 PM</td>\n",
       "      <td>SR Created</td>\n",
       "      <td>BOS</td>\n",
       "      <td>Homeless Encampment</td>\n",
       "      <td>Closed</td>\n",
       "      <td>Call</td>\n",
       "      <td>NaN</td>\n",
       "      <td>N</td>\n",
       "      <td>...</td>\n",
       "      <td>POINT (-118.36075993 34.076262344)</td>\n",
       "      <td>1561</td>\n",
       "      <td>214400</td>\n",
       "      <td>6037214400</td>\n",
       "      <td>2144.0</td>\n",
       "      <td>1563</td>\n",
       "      <td>3.705377e+06</td>\n",
       "      <td>7957.457331</td>\n",
       "      <td>6453462.0</td>\n",
       "      <td>1851021.0</td>\n",
       "    </tr>\n",
       "    <tr>\n",
       "      <th>3</th>\n",
       "      <td>1-591624670</td>\n",
       "      <td>06/13/2017 02:54:13 PM</td>\n",
       "      <td>06/15/2017 02:22:42 PM</td>\n",
       "      <td>SR Created</td>\n",
       "      <td>BOS</td>\n",
       "      <td>Homeless Encampment</td>\n",
       "      <td>Closed</td>\n",
       "      <td>Mobile App</td>\n",
       "      <td>Android</td>\n",
       "      <td>N</td>\n",
       "      <td>...</td>\n",
       "      <td>POINT (-118.355460308 34.0779772979)</td>\n",
       "      <td>1561</td>\n",
       "      <td>214400</td>\n",
       "      <td>6037214400</td>\n",
       "      <td>2144.0</td>\n",
       "      <td>1563</td>\n",
       "      <td>3.705377e+06</td>\n",
       "      <td>7957.457331</td>\n",
       "      <td>6453462.0</td>\n",
       "      <td>1851021.0</td>\n",
       "    </tr>\n",
       "    <tr>\n",
       "      <th>4</th>\n",
       "      <td>1-604986181</td>\n",
       "      <td>06/25/2017 11:41:42 AM</td>\n",
       "      <td>06/29/2017 03:11:26 PM</td>\n",
       "      <td>SR Created</td>\n",
       "      <td>BOS</td>\n",
       "      <td>Homeless Encampment</td>\n",
       "      <td>Closed</td>\n",
       "      <td>Self Service</td>\n",
       "      <td>NaN</td>\n",
       "      <td>N</td>\n",
       "      <td>...</td>\n",
       "      <td>POINT (-118.360549382 34.0779105967)</td>\n",
       "      <td>1561</td>\n",
       "      <td>214400</td>\n",
       "      <td>6037214400</td>\n",
       "      <td>2144.0</td>\n",
       "      <td>1563</td>\n",
       "      <td>3.705377e+06</td>\n",
       "      <td>7957.457331</td>\n",
       "      <td>6453462.0</td>\n",
       "      <td>1851021.0</td>\n",
       "    </tr>\n",
       "  </tbody>\n",
       "</table>\n",
       "<p>5 rows × 43 columns</p>\n",
       "</div>"
      ],
      "text/plain": [
       "      SRNUMBER             CREATEDDATE             UPDATEDDATE ACTIONTAKEN  \\\n",
       "0  1-482531983  03/13/2017 12:05:01 PM  03/16/2017 02:49:57 PM  SR Created   \n",
       "1  1-483651191  03/14/2017 10:41:53 AM  03/16/2017 03:34:03 PM  SR Created   \n",
       "2  1-484262051  03/14/2017 03:07:59 PM  03/16/2017 03:36:55 PM  SR Created   \n",
       "3  1-591624670  06/13/2017 02:54:13 PM  06/15/2017 02:22:42 PM  SR Created   \n",
       "4  1-604986181  06/25/2017 11:41:42 AM  06/29/2017 03:11:26 PM  SR Created   \n",
       "\n",
       "  OWNER          REQUESTTYPE  STATUS REQUESTSOURCE MOBILEOS ANONYMOUS  \\\n",
       "0   BOS  Homeless Encampment  Closed    Mobile App      iOS         N   \n",
       "1   BOS  Homeless Encampment  Closed  Self Service      NaN         Y   \n",
       "2   BOS  Homeless Encampment  Closed          Call      NaN         N   \n",
       "3   BOS  Homeless Encampment  Closed    Mobile App  Android         N   \n",
       "4   BOS  Homeless Encampment  Closed  Self Service      NaN         N   \n",
       "\n",
       "     ...                                  geometry index_right    CT10  \\\n",
       "0    ...      POINT (-118.361314081 34.0775399484)        1561  214400   \n",
       "1    ...      POINT (-118.361305439 34.0765199339)        1561  214400   \n",
       "2    ...        POINT (-118.36075993 34.076262344)        1561  214400   \n",
       "3    ...      POINT (-118.355460308 34.0779772979)        1561  214400   \n",
       "4    ...      POINT (-118.360549382 34.0779105967)        1561  214400   \n",
       "\n",
       "      GEOID10   LABEL OBJECTID    Shape_STAr   Shape_STLe   X_Center  \\\n",
       "0  6037214400  2144.0     1563  3.705377e+06  7957.457331  6453462.0   \n",
       "1  6037214400  2144.0     1563  3.705377e+06  7957.457331  6453462.0   \n",
       "2  6037214400  2144.0     1563  3.705377e+06  7957.457331  6453462.0   \n",
       "3  6037214400  2144.0     1563  3.705377e+06  7957.457331  6453462.0   \n",
       "4  6037214400  2144.0     1563  3.705377e+06  7957.457331  6453462.0   \n",
       "\n",
       "    Y_Center  \n",
       "0  1851021.0  \n",
       "1  1851021.0  \n",
       "2  1851021.0  \n",
       "3  1851021.0  \n",
       "4  1851021.0  \n",
       "\n",
       "[5 rows x 43 columns]"
      ]
     },
     "execution_count": 6,
     "metadata": {},
     "output_type": "execute_result"
    }
   ],
   "source": [
    "call_df = pd.read_csv(\"data/311_calls_w_CTs20171102134828.csv\")\n",
    "call_df.head()"
   ]
  },
  {
   "cell_type": "code",
   "execution_count": 7,
   "metadata": {
    "collapsed": true
   },
   "outputs": [],
   "source": [
    "call_df.CREATEDDATE = pd.to_datetime(call_df.CREATEDDATE)\n",
    "call_df[\"YEAR\"] = call_df.CREATEDDATE.dt.year\n",
    "call_df[\"MONTH\"] = call_df.CREATEDDATE.dt.month\n",
    "call_df = pd.DataFrame(call_df.groupby([\"YEAR\",\"MONTH\",\"CT10\"]).agg([\"count\"]).ix[:,0])"
   ]
  },
  {
   "cell_type": "code",
   "execution_count": 8,
   "metadata": {},
   "outputs": [
    {
     "data": {
      "text/html": [
       "<div>\n",
       "<table border=\"1\" class=\"dataframe\">\n",
       "  <thead>\n",
       "    <tr>\n",
       "      <th></th>\n",
       "      <th></th>\n",
       "      <th></th>\n",
       "      <th>SRNUMBER</th>\n",
       "    </tr>\n",
       "    <tr>\n",
       "      <th></th>\n",
       "      <th></th>\n",
       "      <th></th>\n",
       "      <th>count</th>\n",
       "    </tr>\n",
       "    <tr>\n",
       "      <th>YEAR</th>\n",
       "      <th>MONTH</th>\n",
       "      <th>CT10</th>\n",
       "      <th></th>\n",
       "    </tr>\n",
       "  </thead>\n",
       "  <tbody>\n",
       "    <tr>\n",
       "      <th rowspan=\"5\" valign=\"top\">2017</th>\n",
       "      <th rowspan=\"5\" valign=\"top\">1</th>\n",
       "      <th>101300</th>\n",
       "      <td>10</td>\n",
       "    </tr>\n",
       "    <tr>\n",
       "      <th>102104</th>\n",
       "      <td>1</td>\n",
       "    </tr>\n",
       "    <tr>\n",
       "      <th>102107</th>\n",
       "      <td>4</td>\n",
       "    </tr>\n",
       "    <tr>\n",
       "      <th>103102</th>\n",
       "      <td>3</td>\n",
       "    </tr>\n",
       "    <tr>\n",
       "      <th>103200</th>\n",
       "      <td>10</td>\n",
       "    </tr>\n",
       "  </tbody>\n",
       "</table>\n",
       "</div>"
      ],
      "text/plain": [
       "                  SRNUMBER\n",
       "                     count\n",
       "YEAR MONTH CT10           \n",
       "2017 1     101300       10\n",
       "           102104        1\n",
       "           102107        4\n",
       "           103102        3\n",
       "           103200       10"
      ]
     },
     "execution_count": 8,
     "metadata": {},
     "output_type": "execute_result"
    }
   ],
   "source": [
    "call_df.head()"
   ]
  },
  {
   "cell_type": "code",
   "execution_count": 9,
   "metadata": {
    "collapsed": true
   },
   "outputs": [],
   "source": [
    "call_df.columns = [\"call_counts\"]"
   ]
  },
  {
   "cell_type": "markdown",
   "metadata": {},
   "source": [
    "Aggregating Crime Data Sourced from [Socrata](https://data.lacity.org/A-Safe-City/Crime-Homeless-Victim-8-16-8-17/djbj-9vsp)"
   ]
  },
  {
   "cell_type": "code",
   "execution_count": 10,
   "metadata": {},
   "outputs": [
    {
     "data": {
      "text/html": [
       "<div>\n",
       "<table border=\"1\" class=\"dataframe\">\n",
       "  <thead>\n",
       "    <tr style=\"text-align: right;\">\n",
       "      <th></th>\n",
       "      <th>DR NUMBER</th>\n",
       "      <th>DATE REPORTED</th>\n",
       "      <th>DATE OCCURRED</th>\n",
       "      <th>TIME OCCURRED</th>\n",
       "      <th>AREA ID</th>\n",
       "      <th>AREA NAME</th>\n",
       "      <th>REPORTING DISTRICT</th>\n",
       "      <th>CRIME CODE</th>\n",
       "      <th>CRIME CODE DESCRIPTION</th>\n",
       "      <th>MO CODES</th>\n",
       "      <th>...</th>\n",
       "      <th>geometry</th>\n",
       "      <th>index_right</th>\n",
       "      <th>CT10</th>\n",
       "      <th>GEOID10</th>\n",
       "      <th>LABEL</th>\n",
       "      <th>OBJECTID</th>\n",
       "      <th>Shape_STAr</th>\n",
       "      <th>Shape_STLe</th>\n",
       "      <th>X_Center</th>\n",
       "      <th>Y_Center</th>\n",
       "    </tr>\n",
       "  </thead>\n",
       "  <tbody>\n",
       "    <tr>\n",
       "      <th>0</th>\n",
       "      <td>160101129</td>\n",
       "      <td>08/01/2016</td>\n",
       "      <td>08/01/2016</td>\n",
       "      <td>1310</td>\n",
       "      <td>1</td>\n",
       "      <td>Central</td>\n",
       "      <td>147</td>\n",
       "      <td>230</td>\n",
       "      <td>ASSAULT WITH DEADLY WEAPON, AGGRAVATED ASSAULT</td>\n",
       "      <td>0416 1402 1218 0319 0342 0445</td>\n",
       "      <td>...</td>\n",
       "      <td>POINT (-118.2439 34.0442)</td>\n",
       "      <td>691</td>\n",
       "      <td>206300</td>\n",
       "      <td>6037206300</td>\n",
       "      <td>2063.0</td>\n",
       "      <td>693</td>\n",
       "      <td>6.637587e+06</td>\n",
       "      <td>13167.165734</td>\n",
       "      <td>6487985.0</td>\n",
       "      <td>1837432.0</td>\n",
       "    </tr>\n",
       "    <tr>\n",
       "      <th>1</th>\n",
       "      <td>160120276</td>\n",
       "      <td>08/02/2016</td>\n",
       "      <td>08/01/2016</td>\n",
       "      <td>2215</td>\n",
       "      <td>1</td>\n",
       "      <td>Central</td>\n",
       "      <td>157</td>\n",
       "      <td>210</td>\n",
       "      <td>ROBBERY</td>\n",
       "      <td>0305 0344 0445 1218 0342 0429</td>\n",
       "      <td>...</td>\n",
       "      <td>POINT (-118.2443 34.0417)</td>\n",
       "      <td>691</td>\n",
       "      <td>206300</td>\n",
       "      <td>6037206300</td>\n",
       "      <td>2063.0</td>\n",
       "      <td>693</td>\n",
       "      <td>6.637587e+06</td>\n",
       "      <td>13167.165734</td>\n",
       "      <td>6487985.0</td>\n",
       "      <td>1837432.0</td>\n",
       "    </tr>\n",
       "    <tr>\n",
       "      <th>2</th>\n",
       "      <td>160120325</td>\n",
       "      <td>08/02/2016</td>\n",
       "      <td>08/02/2016</td>\n",
       "      <td>1950</td>\n",
       "      <td>1</td>\n",
       "      <td>Central</td>\n",
       "      <td>156</td>\n",
       "      <td>230</td>\n",
       "      <td>ASSAULT WITH DEADLY WEAPON, AGGRAVATED ASSAULT</td>\n",
       "      <td>2004 1402 0416 1218 0445 1822</td>\n",
       "      <td>...</td>\n",
       "      <td>POINT (-118.2455 34.0437)</td>\n",
       "      <td>691</td>\n",
       "      <td>206300</td>\n",
       "      <td>6037206300</td>\n",
       "      <td>2063.0</td>\n",
       "      <td>693</td>\n",
       "      <td>6.637587e+06</td>\n",
       "      <td>13167.165734</td>\n",
       "      <td>6487985.0</td>\n",
       "      <td>1837432.0</td>\n",
       "    </tr>\n",
       "    <tr>\n",
       "      <th>3</th>\n",
       "      <td>160120339</td>\n",
       "      <td>08/02/2016</td>\n",
       "      <td>08/02/2016</td>\n",
       "      <td>1700</td>\n",
       "      <td>1</td>\n",
       "      <td>Central</td>\n",
       "      <td>166</td>\n",
       "      <td>230</td>\n",
       "      <td>ASSAULT WITH DEADLY WEAPON, AGGRAVATED ASSAULT</td>\n",
       "      <td>1218 0416 0445</td>\n",
       "      <td>...</td>\n",
       "      <td>POINT (-118.2469 34.0421)</td>\n",
       "      <td>691</td>\n",
       "      <td>206300</td>\n",
       "      <td>6037206300</td>\n",
       "      <td>2063.0</td>\n",
       "      <td>693</td>\n",
       "      <td>6.637587e+06</td>\n",
       "      <td>13167.165734</td>\n",
       "      <td>6487985.0</td>\n",
       "      <td>1837432.0</td>\n",
       "    </tr>\n",
       "    <tr>\n",
       "      <th>4</th>\n",
       "      <td>160120355</td>\n",
       "      <td>08/02/2016</td>\n",
       "      <td>08/02/2016</td>\n",
       "      <td>2115</td>\n",
       "      <td>1</td>\n",
       "      <td>Central</td>\n",
       "      <td>156</td>\n",
       "      <td>626</td>\n",
       "      <td>INTIMATE PARTNER - SIMPLE ASSAULT</td>\n",
       "      <td>2000 0416 1218 2004</td>\n",
       "      <td>...</td>\n",
       "      <td>POINT (-118.2461 34.0428)</td>\n",
       "      <td>691</td>\n",
       "      <td>206300</td>\n",
       "      <td>6037206300</td>\n",
       "      <td>2063.0</td>\n",
       "      <td>693</td>\n",
       "      <td>6.637587e+06</td>\n",
       "      <td>13167.165734</td>\n",
       "      <td>6487985.0</td>\n",
       "      <td>1837432.0</td>\n",
       "    </tr>\n",
       "  </tbody>\n",
       "</table>\n",
       "<p>5 rows × 38 columns</p>\n",
       "</div>"
      ],
      "text/plain": [
       "   DR NUMBER DATE REPORTED DATE OCCURRED  TIME OCCURRED  AREA ID AREA NAME  \\\n",
       "0  160101129    08/01/2016    08/01/2016           1310        1   Central   \n",
       "1  160120276    08/02/2016    08/01/2016           2215        1   Central   \n",
       "2  160120325    08/02/2016    08/02/2016           1950        1   Central   \n",
       "3  160120339    08/02/2016    08/02/2016           1700        1   Central   \n",
       "4  160120355    08/02/2016    08/02/2016           2115        1   Central   \n",
       "\n",
       "   REPORTING DISTRICT  CRIME CODE  \\\n",
       "0                 147         230   \n",
       "1                 157         210   \n",
       "2                 156         230   \n",
       "3                 166         230   \n",
       "4                 156         626   \n",
       "\n",
       "                           CRIME CODE DESCRIPTION  \\\n",
       "0  ASSAULT WITH DEADLY WEAPON, AGGRAVATED ASSAULT   \n",
       "1                                         ROBBERY   \n",
       "2  ASSAULT WITH DEADLY WEAPON, AGGRAVATED ASSAULT   \n",
       "3  ASSAULT WITH DEADLY WEAPON, AGGRAVATED ASSAULT   \n",
       "4               INTIMATE PARTNER - SIMPLE ASSAULT   \n",
       "\n",
       "                        MO CODES    ...                       geometry  \\\n",
       "0  0416 1402 1218 0319 0342 0445    ...      POINT (-118.2439 34.0442)   \n",
       "1  0305 0344 0445 1218 0342 0429    ...      POINT (-118.2443 34.0417)   \n",
       "2  2004 1402 0416 1218 0445 1822    ...      POINT (-118.2455 34.0437)   \n",
       "3                 1218 0416 0445    ...      POINT (-118.2469 34.0421)   \n",
       "4            2000 0416 1218 2004    ...      POINT (-118.2461 34.0428)   \n",
       "\n",
       "  index_right    CT10     GEOID10   LABEL  OBJECTID    Shape_STAr  \\\n",
       "0         691  206300  6037206300  2063.0       693  6.637587e+06   \n",
       "1         691  206300  6037206300  2063.0       693  6.637587e+06   \n",
       "2         691  206300  6037206300  2063.0       693  6.637587e+06   \n",
       "3         691  206300  6037206300  2063.0       693  6.637587e+06   \n",
       "4         691  206300  6037206300  2063.0       693  6.637587e+06   \n",
       "\n",
       "     Shape_STLe   X_Center   Y_Center  \n",
       "0  13167.165734  6487985.0  1837432.0  \n",
       "1  13167.165734  6487985.0  1837432.0  \n",
       "2  13167.165734  6487985.0  1837432.0  \n",
       "3  13167.165734  6487985.0  1837432.0  \n",
       "4  13167.165734  6487985.0  1837432.0  \n",
       "\n",
       "[5 rows x 38 columns]"
      ]
     },
     "execution_count": 10,
     "metadata": {},
     "output_type": "execute_result"
    }
   ],
   "source": [
    "crime_df = pd.read_csv(\"data/crime_w_CTs20171102134814.csv\")\n",
    "crime_df.head()"
   ]
  },
  {
   "cell_type": "code",
   "execution_count": 11,
   "metadata": {
    "collapsed": true
   },
   "outputs": [],
   "source": [
    "crime_df[\"DATE OCCURRED\"] = pd.to_datetime(crime_df[\"DATE OCCURRED\"])\n",
    "crime_df[\"YEAR\"] = crime_df[\"DATE OCCURRED\"].dt.year\n",
    "crime_df[\"MONTH\"] = crime_df[\"DATE OCCURRED\"].dt.month\n",
    "crime_df = pd.DataFrame(crime_df.groupby([\"YEAR\",\"MONTH\",\"CT10\"]).agg([\"count\"]).ix[:,0])"
   ]
  },
  {
   "cell_type": "code",
   "execution_count": 12,
   "metadata": {},
   "outputs": [
    {
     "data": {
      "text/html": [
       "<div>\n",
       "<table border=\"1\" class=\"dataframe\">\n",
       "  <thead>\n",
       "    <tr>\n",
       "      <th></th>\n",
       "      <th></th>\n",
       "      <th></th>\n",
       "      <th>DR NUMBER</th>\n",
       "    </tr>\n",
       "    <tr>\n",
       "      <th></th>\n",
       "      <th></th>\n",
       "      <th></th>\n",
       "      <th>count</th>\n",
       "    </tr>\n",
       "    <tr>\n",
       "      <th>YEAR</th>\n",
       "      <th>MONTH</th>\n",
       "      <th>CT10</th>\n",
       "      <th></th>\n",
       "    </tr>\n",
       "  </thead>\n",
       "  <tbody>\n",
       "    <tr>\n",
       "      <th rowspan=\"5\" valign=\"top\">2016</th>\n",
       "      <th rowspan=\"5\" valign=\"top\">8</th>\n",
       "      <th>104204</th>\n",
       "      <td>1</td>\n",
       "    </tr>\n",
       "    <tr>\n",
       "      <th>113234</th>\n",
       "      <td>1</td>\n",
       "    </tr>\n",
       "    <tr>\n",
       "      <th>113401</th>\n",
       "      <td>1</td>\n",
       "    </tr>\n",
       "    <tr>\n",
       "      <th>117408</th>\n",
       "      <td>1</td>\n",
       "    </tr>\n",
       "    <tr>\n",
       "      <th>117520</th>\n",
       "      <td>1</td>\n",
       "    </tr>\n",
       "  </tbody>\n",
       "</table>\n",
       "</div>"
      ],
      "text/plain": [
       "                  DR NUMBER\n",
       "                      count\n",
       "YEAR MONTH CT10            \n",
       "2016 8     104204         1\n",
       "           113234         1\n",
       "           113401         1\n",
       "           117408         1\n",
       "           117520         1"
      ]
     },
     "execution_count": 12,
     "metadata": {},
     "output_type": "execute_result"
    }
   ],
   "source": [
    "crime_df.head()"
   ]
  },
  {
   "cell_type": "code",
   "execution_count": 13,
   "metadata": {
    "collapsed": true
   },
   "outputs": [],
   "source": [
    "crime_df.columns = [\"crime_counts\"]"
   ]
  },
  {
   "cell_type": "markdown",
   "metadata": {},
   "source": [
    "Aggregating Shelter Data"
   ]
  },
  {
   "cell_type": "code",
   "execution_count": 14,
   "metadata": {},
   "outputs": [
    {
     "data": {
      "text/html": [
       "<div>\n",
       "<table border=\"1\" class=\"dataframe\">\n",
       "  <thead>\n",
       "    <tr style=\"text-align: right;\">\n",
       "      <th></th>\n",
       "      <th>LONGITUDE</th>\n",
       "      <th>LATITUDE</th>\n",
       "      <th>OBJECTID_left</th>\n",
       "      <th>SOURCE</th>\n",
       "      <th>EXT_ID</th>\n",
       "      <th>CAT1</th>\n",
       "      <th>CAT2</th>\n",
       "      <th>CAT3</th>\n",
       "      <th>ORG_NAME</th>\n",
       "      <th>NAME</th>\n",
       "      <th>...</th>\n",
       "      <th>geometry</th>\n",
       "      <th>index_right</th>\n",
       "      <th>CT10</th>\n",
       "      <th>GEOID10</th>\n",
       "      <th>LABEL</th>\n",
       "      <th>OBJECTID_right</th>\n",
       "      <th>Shape_STAr</th>\n",
       "      <th>Shape_STLe</th>\n",
       "      <th>X_Center</th>\n",
       "      <th>Y_Center</th>\n",
       "    </tr>\n",
       "  </thead>\n",
       "  <tbody>\n",
       "    <tr>\n",
       "      <th>0</th>\n",
       "      <td>-118.243152</td>\n",
       "      <td>34.045219</td>\n",
       "      <td>97626377</td>\n",
       "      <td>211</td>\n",
       "      <td>NaN</td>\n",
       "      <td>Social Services</td>\n",
       "      <td>Homeless Shelters and Services</td>\n",
       "      <td>NaN</td>\n",
       "      <td>NaN</td>\n",
       "      <td>Special Service For Groups -  Project 180</td>\n",
       "      <td>...</td>\n",
       "      <td>POINT (-118.2431520565494 34.0452189665425)</td>\n",
       "      <td>1239</td>\n",
       "      <td>206200</td>\n",
       "      <td>6037206200</td>\n",
       "      <td>2062.0</td>\n",
       "      <td>1241</td>\n",
       "      <td>6.229435e+06</td>\n",
       "      <td>11677.50641</td>\n",
       "      <td>6488479.0</td>\n",
       "      <td>1839572.0</td>\n",
       "    </tr>\n",
       "    <tr>\n",
       "      <th>1</th>\n",
       "      <td>-118.240389</td>\n",
       "      <td>34.044049</td>\n",
       "      <td>97679054</td>\n",
       "      <td>211</td>\n",
       "      <td>NaN</td>\n",
       "      <td>Social Services</td>\n",
       "      <td>Homeless Shelters and Services</td>\n",
       "      <td>NaN</td>\n",
       "      <td>NaN</td>\n",
       "      <td>Los Angeles Centers For Alcohol And Drug Abuse...</td>\n",
       "      <td>...</td>\n",
       "      <td>POINT (-118.2403890559507 34.04404896709811)</td>\n",
       "      <td>1239</td>\n",
       "      <td>206200</td>\n",
       "      <td>6037206200</td>\n",
       "      <td>2062.0</td>\n",
       "      <td>1241</td>\n",
       "      <td>6.229435e+06</td>\n",
       "      <td>11677.50641</td>\n",
       "      <td>6488479.0</td>\n",
       "      <td>1839572.0</td>\n",
       "    </tr>\n",
       "    <tr>\n",
       "      <th>2</th>\n",
       "      <td>-118.246126</td>\n",
       "      <td>34.046006</td>\n",
       "      <td>97679688</td>\n",
       "      <td>211</td>\n",
       "      <td>NaN</td>\n",
       "      <td>Social Services</td>\n",
       "      <td>Homeless Shelters and Services</td>\n",
       "      <td>NaN</td>\n",
       "      <td>www.svdpla.org</td>\n",
       "      <td>Society Of St. Vincent De Paul - Social Servic...</td>\n",
       "      <td>...</td>\n",
       "      <td>POINT (-118.2461260566815 34.04600596664324)</td>\n",
       "      <td>1239</td>\n",
       "      <td>206200</td>\n",
       "      <td>6037206200</td>\n",
       "      <td>2062.0</td>\n",
       "      <td>1241</td>\n",
       "      <td>6.229435e+06</td>\n",
       "      <td>11677.50641</td>\n",
       "      <td>6488479.0</td>\n",
       "      <td>1839572.0</td>\n",
       "    </tr>\n",
       "    <tr>\n",
       "      <th>3</th>\n",
       "      <td>-118.244768</td>\n",
       "      <td>34.044656</td>\n",
       "      <td>97680073</td>\n",
       "      <td>211</td>\n",
       "      <td>NaN</td>\n",
       "      <td>Social Services</td>\n",
       "      <td>Homeless Shelters and Services</td>\n",
       "      <td>NaN</td>\n",
       "      <td>www.lahsa.org</td>\n",
       "      <td>Year Round Shelter - Sro Housing</td>\n",
       "      <td>...</td>\n",
       "      <td>POINT (-118.2447680566585 34.04465596716784)</td>\n",
       "      <td>1239</td>\n",
       "      <td>206200</td>\n",
       "      <td>6037206200</td>\n",
       "      <td>2062.0</td>\n",
       "      <td>1241</td>\n",
       "      <td>6.229435e+06</td>\n",
       "      <td>11677.50641</td>\n",
       "      <td>6488479.0</td>\n",
       "      <td>1839572.0</td>\n",
       "    </tr>\n",
       "    <tr>\n",
       "      <th>4</th>\n",
       "      <td>-118.243403</td>\n",
       "      <td>34.044644</td>\n",
       "      <td>97680591</td>\n",
       "      <td>211</td>\n",
       "      <td>NaN</td>\n",
       "      <td>Social Services</td>\n",
       "      <td>Homeless Shelters and Services</td>\n",
       "      <td>NaN</td>\n",
       "      <td>www.dwcweb.org</td>\n",
       "      <td>Downtown Women's Center</td>\n",
       "      <td>...</td>\n",
       "      <td>POINT (-118.2434032567134 34.04464352704309)</td>\n",
       "      <td>1239</td>\n",
       "      <td>206200</td>\n",
       "      <td>6037206200</td>\n",
       "      <td>2062.0</td>\n",
       "      <td>1241</td>\n",
       "      <td>6.229435e+06</td>\n",
       "      <td>11677.50641</td>\n",
       "      <td>6488479.0</td>\n",
       "      <td>1839572.0</td>\n",
       "    </tr>\n",
       "  </tbody>\n",
       "</table>\n",
       "<p>5 rows × 39 columns</p>\n",
       "</div>"
      ],
      "text/plain": [
       "    LONGITUDE   LATITUDE  OBJECTID_left SOURCE  EXT_ID             CAT1  \\\n",
       "0 -118.243152  34.045219       97626377    211     NaN  Social Services   \n",
       "1 -118.240389  34.044049       97679054    211     NaN  Social Services   \n",
       "2 -118.246126  34.046006       97679688    211     NaN  Social Services   \n",
       "3 -118.244768  34.044656       97680073    211     NaN  Social Services   \n",
       "4 -118.243403  34.044644       97680591    211     NaN  Social Services   \n",
       "\n",
       "                             CAT2  CAT3        ORG_NAME  \\\n",
       "0  Homeless Shelters and Services   NaN             NaN   \n",
       "1  Homeless Shelters and Services   NaN             NaN   \n",
       "2  Homeless Shelters and Services   NaN  www.svdpla.org   \n",
       "3  Homeless Shelters and Services   NaN   www.lahsa.org   \n",
       "4  Homeless Shelters and Services   NaN  www.dwcweb.org   \n",
       "\n",
       "                                                NAME    ...      \\\n",
       "0          Special Service For Groups -  Project 180    ...       \n",
       "1  Los Angeles Centers For Alcohol And Drug Abuse...    ...       \n",
       "2  Society Of St. Vincent De Paul - Social Servic...    ...       \n",
       "3                   Year Round Shelter - Sro Housing    ...       \n",
       "4                            Downtown Women's Center    ...       \n",
       "\n",
       "                                       geometry index_right    CT10  \\\n",
       "0   POINT (-118.2431520565494 34.0452189665425)        1239  206200   \n",
       "1  POINT (-118.2403890559507 34.04404896709811)        1239  206200   \n",
       "2  POINT (-118.2461260566815 34.04600596664324)        1239  206200   \n",
       "3  POINT (-118.2447680566585 34.04465596716784)        1239  206200   \n",
       "4  POINT (-118.2434032567134 34.04464352704309)        1239  206200   \n",
       "\n",
       "      GEOID10   LABEL OBJECTID_right    Shape_STAr   Shape_STLe   X_Center  \\\n",
       "0  6037206200  2062.0           1241  6.229435e+06  11677.50641  6488479.0   \n",
       "1  6037206200  2062.0           1241  6.229435e+06  11677.50641  6488479.0   \n",
       "2  6037206200  2062.0           1241  6.229435e+06  11677.50641  6488479.0   \n",
       "3  6037206200  2062.0           1241  6.229435e+06  11677.50641  6488479.0   \n",
       "4  6037206200  2062.0           1241  6.229435e+06  11677.50641  6488479.0   \n",
       "\n",
       "    Y_Center  \n",
       "0  1839572.0  \n",
       "1  1839572.0  \n",
       "2  1839572.0  \n",
       "3  1839572.0  \n",
       "4  1839572.0  \n",
       "\n",
       "[5 rows x 39 columns]"
      ]
     },
     "execution_count": 14,
     "metadata": {},
     "output_type": "execute_result"
    }
   ],
   "source": [
    "shelter_df = pd.read_csv(\"data/shelters_w_CTs20171102134808.csv\")\n",
    "shelter_df.head()"
   ]
  },
  {
   "cell_type": "code",
   "execution_count": 15,
   "metadata": {
    "collapsed": true
   },
   "outputs": [],
   "source": [
    "shelter_df = pd.DataFrame(shelter_df.groupby(\"CT10\").agg([\"count\"]).ix[:,0])"
   ]
  },
  {
   "cell_type": "code",
   "execution_count": 16,
   "metadata": {},
   "outputs": [
    {
     "data": {
      "text/html": [
       "<div>\n",
       "<table border=\"1\" class=\"dataframe\">\n",
       "  <thead>\n",
       "    <tr>\n",
       "      <th></th>\n",
       "      <th>LONGITUDE</th>\n",
       "    </tr>\n",
       "    <tr>\n",
       "      <th></th>\n",
       "      <th>count</th>\n",
       "    </tr>\n",
       "    <tr>\n",
       "      <th>CT10</th>\n",
       "      <th></th>\n",
       "    </tr>\n",
       "  </thead>\n",
       "  <tbody>\n",
       "    <tr>\n",
       "      <th>101220</th>\n",
       "      <td>1</td>\n",
       "    </tr>\n",
       "    <tr>\n",
       "      <th>113321</th>\n",
       "      <td>1</td>\n",
       "    </tr>\n",
       "    <tr>\n",
       "      <th>113401</th>\n",
       "      <td>2</td>\n",
       "    </tr>\n",
       "    <tr>\n",
       "      <th>117405</th>\n",
       "      <td>1</td>\n",
       "    </tr>\n",
       "    <tr>\n",
       "      <th>121802</th>\n",
       "      <td>2</td>\n",
       "    </tr>\n",
       "  </tbody>\n",
       "</table>\n",
       "</div>"
      ],
      "text/plain": [
       "       LONGITUDE\n",
       "           count\n",
       "CT10            \n",
       "101220         1\n",
       "113321         1\n",
       "113401         2\n",
       "117405         1\n",
       "121802         2"
      ]
     },
     "execution_count": 16,
     "metadata": {},
     "output_type": "execute_result"
    }
   ],
   "source": [
    "shelter_df.head()"
   ]
  },
  {
   "cell_type": "code",
   "execution_count": 17,
   "metadata": {
    "collapsed": true
   },
   "outputs": [],
   "source": [
    "shelter_df.columns = [\"shelter_counts\"]"
   ]
  },
  {
   "cell_type": "markdown",
   "metadata": {},
   "source": [
    "Loading Census Tract Sizes - Sourced from [Census](https://factfinder.census.gov/faces/tableservices/jsf/pages/productview.xhtml?src=bkmk)"
   ]
  },
  {
   "cell_type": "code",
   "execution_count": 18,
   "metadata": {},
   "outputs": [],
   "source": [
    "census_df =  pd.read_csv(\"data/DEC_10_SF1_GCTPH1.CY07/DEC_10_SF1_GCTPH1.CY07_with_ann.csv\", skiprows = 1, dtype = str)"
   ]
  },
  {
   "cell_type": "code",
   "execution_count": 19,
   "metadata": {},
   "outputs": [],
   "source": [
    "#Removing LA County Rollup\n",
    "census_df = census_df.ix[1:]"
   ]
  },
  {
   "cell_type": "code",
   "execution_count": 20,
   "metadata": {},
   "outputs": [
    {
     "data": {
      "text/plain": [
       "count    2346.0\n",
       "mean       11.0\n",
       "std         0.0\n",
       "min        11.0\n",
       "25%        11.0\n",
       "50%        11.0\n",
       "75%        11.0\n",
       "max        11.0\n",
       "Name: Target Geo Id2, dtype: float64"
      ]
     },
     "execution_count": 20,
     "metadata": {},
     "output_type": "execute_result"
    }
   ],
   "source": [
    "census_df[\"Target Geo Id2\"].str.len().describe()"
   ]
  },
  {
   "cell_type": "code",
   "execution_count": 21,
   "metadata": {},
   "outputs": [],
   "source": [
    "#Cutting of county prefix\n",
    "census_df[\"tract\"] = census_df[\"Target Geo Id2\"].str.slice(start=5).astype(int)"
   ]
  },
  {
   "cell_type": "markdown",
   "metadata": {},
   "source": [
    "#### Merge Data"
   ]
  },
  {
   "cell_type": "code",
   "execution_count": 22,
   "metadata": {},
   "outputs": [],
   "source": [
    "master_df = master_df.merge(call_df.xs([2017,1]), how = \"left\", left_on = \"tract\", right_index = True)"
   ]
  },
  {
   "cell_type": "code",
   "execution_count": 23,
   "metadata": {
    "collapsed": true
   },
   "outputs": [],
   "source": [
    "master_df = master_df.merge(crime_df.xs([2017,1]), how = \"left\", left_on = \"tract\", right_index = True)"
   ]
  },
  {
   "cell_type": "code",
   "execution_count": 24,
   "metadata": {
    "collapsed": true
   },
   "outputs": [],
   "source": [
    "master_df = master_df.merge(shelter_df, how = \"left\", left_on = \"tract\", right_index = True)"
   ]
  },
  {
   "cell_type": "code",
   "execution_count": 25,
   "metadata": {},
   "outputs": [],
   "source": [
    "master_df = master_df.merge(census_df[[\"tract\", \"Area in square miles - Land area\"]], how = \"left\", left_on = \"tract\", right_on = \"tract\")"
   ]
  },
  {
   "cell_type": "markdown",
   "metadata": {},
   "source": [
    "#### Data Exploration\n",
    "Population Level"
   ]
  },
  {
   "cell_type": "code",
   "execution_count": 26,
   "metadata": {},
   "outputs": [
    {
     "data": {
      "text/plain": [
       "count    1004.000000\n",
       "mean       31.063064\n",
       "std       115.721992\n",
       "min         0.000000\n",
       "25%         4.000000\n",
       "50%        12.582500\n",
       "75%        28.214000\n",
       "max      3229.044000\n",
       "Name: totPeople, dtype: float64"
      ]
     },
     "execution_count": 26,
     "metadata": {},
     "output_type": "execute_result"
    }
   ],
   "source": [
    "master_df.totPeople.describe()"
   ]
  },
  {
   "cell_type": "code",
   "execution_count": 27,
   "metadata": {},
   "outputs": [
    {
     "data": {
      "text/plain": [
       "264.09293000000036"
      ]
     },
     "execution_count": 27,
     "metadata": {},
     "output_type": "execute_result"
    }
   ],
   "source": [
    "master_df.totPeople.quantile(0.99)"
   ]
  },
  {
   "cell_type": "code",
   "execution_count": 28,
   "metadata": {},
   "outputs": [
    {
     "data": {
      "text/plain": [
       "<matplotlib.axes._subplots.AxesSubplot at 0x10e312490>"
      ]
     },
     "execution_count": 28,
     "metadata": {},
     "output_type": "execute_result"
    },
    {
     "data": {
      "image/png": "[encoded data removed]",
      "text/plain": [
       "<matplotlib.figure.Figure at 0x10dafafd0>"
      ]
     },
     "metadata": {},
     "output_type": "display_data"
    }
   ],
   "source": [
    "master_df[master_df.totPeople < master_df.totPeople.quantile(0.99)].totPeople.hist(bins = 20)"
   ]
  },
  {
   "cell_type": "code",
   "execution_count": 29,
   "metadata": {
    "collapsed": true
   },
   "outputs": [],
   "source": [
    "master_df.call_counts.fillna(0,inplace=True)\n",
    "master_df.crime_counts.fillna(0, inplace=True)\n",
    "master_df.shelter_counts.fillna(0, inplace = True)"
   ]
  },
  {
   "cell_type": "code",
   "execution_count": 30,
   "metadata": {},
   "outputs": [
    {
     "data": {
      "text/plain": [
       "<seaborn.axisgrid.PairGrid at 0x10e5b3f10>"
      ]
     },
     "execution_count": 30,
     "metadata": {},
     "output_type": "execute_result"
    },
    {
     "data": {
      "image/png": "[encoded data removed]",
      "text/plain": [
       "<matplotlib.figure.Figure at 0x10dc85f50>"
      ]
     },
     "metadata": {},
     "output_type": "display_data"
    }
   ],
   "source": [
    "sns.pairplot(master_df[master_df.totPeople < master_df.totPeople.quantile(0.99)], x_vars = [\"crime_counts\",\"call_counts\", \"shelter_counts\"], y_vars = [\"totPeople\"], kind = \"reg\")"
   ]
  },
  {
   "cell_type": "code",
   "execution_count": 31,
   "metadata": {},
   "outputs": [
    {
     "data": {
      "text/plain": [
       "<matplotlib.axes._subplots.AxesSubplot at 0x10f91b210>"
      ]
     },
     "execution_count": 31,
     "metadata": {},
     "output_type": "execute_result"
    },
    {
     "data": {
      "image/png": "[encoded data removed]",
      "text/plain": [
       "<matplotlib.figure.Figure at 0x10f6a1390>"
      ]
     },
     "metadata": {},
     "output_type": "display_data"
    }
   ],
   "source": [
    "sns.heatmap(master_df[[\"crime_counts\",\"call_counts\", \"shelter_counts\", \"totPeople\"]].corr(), vmax=.8, square=True)"
   ]
  },
  {
   "cell_type": "markdown",
   "metadata": {},
   "source": [
    "Density Level"
   ]
  },
  {
   "cell_type": "code",
   "execution_count": 32,
   "metadata": {},
   "outputs": [
    {
     "data": {
      "text/plain": [
       "1"
      ]
     },
     "execution_count": 32,
     "metadata": {},
     "output_type": "execute_result"
    }
   ],
   "source": [
    "master_df[\"Area in square miles - Land area\"].isnull().sum()"
   ]
  },
  {
   "cell_type": "code",
   "execution_count": 33,
   "metadata": {},
   "outputs": [],
   "source": [
    "master_df.dropna(subset=[\"Area in square miles - Land area\"], inplace = True)"
   ]
  },
  {
   "cell_type": "code",
   "execution_count": 34,
   "metadata": {
    "collapsed": true
   },
   "outputs": [],
   "source": [
    "master_df[\"Area in square miles - Land area\"] = master_df[\"Area in square miles - Land area\"].astype(float)"
   ]
  },
  {
   "cell_type": "code",
   "execution_count": 35,
   "metadata": {},
   "outputs": [
    {
     "data": {
      "text/plain": [
       "count    1003.000000\n",
       "mean        0.474796\n",
       "std         0.842367\n",
       "min         0.030000\n",
       "25%         0.170000\n",
       "50%         0.270000\n",
       "75%         0.470000\n",
       "max        17.040000\n",
       "Name: Area in square miles - Land area, dtype: float64"
      ]
     },
     "execution_count": 35,
     "metadata": {},
     "output_type": "execute_result"
    }
   ],
   "source": [
    "master_df[\"Area in square miles - Land area\"].describe()"
   ]
  },
  {
   "cell_type": "code",
   "execution_count": 36,
   "metadata": {},
   "outputs": [
    {
     "data": {
      "text/plain": [
       "1.4289999999999998"
      ]
     },
     "execution_count": 36,
     "metadata": {},
     "output_type": "execute_result"
    }
   ],
   "source": [
    "master_df[\"Area in square miles - Land area\"].quantile(0.95)"
   ]
  },
  {
   "cell_type": "code",
   "execution_count": 37,
   "metadata": {},
   "outputs": [],
   "source": [
    "master_df[\"density\"] = master_df[\"totPeople\"]/master_df[\"Area in square miles - Land area\"]"
   ]
  },
  {
   "cell_type": "code",
   "execution_count": 38,
   "metadata": {},
   "outputs": [
    {
     "data": {
      "text/plain": [
       "count     1003.000000\n",
       "mean       140.540545\n",
       "std        525.259697\n",
       "min          0.000000\n",
       "25%         11.653731\n",
       "50%         43.670000\n",
       "75%        123.584895\n",
       "max      13454.350000\n",
       "Name: density, dtype: float64"
      ]
     },
     "execution_count": 38,
     "metadata": {},
     "output_type": "execute_result"
    }
   ],
   "source": [
    "master_df.density.describe()"
   ]
  },
  {
   "cell_type": "code",
   "execution_count": 39,
   "metadata": {},
   "outputs": [
    {
     "data": {
      "text/plain": [
       "1513.4774385964938"
      ]
     },
     "execution_count": 39,
     "metadata": {},
     "output_type": "execute_result"
    }
   ],
   "source": [
    "master_df.density.quantile(0.99)"
   ]
  },
  {
   "cell_type": "code",
   "execution_count": 40,
   "metadata": {},
   "outputs": [
    {
     "data": {
      "text/plain": [
       "<matplotlib.axes._subplots.AxesSubplot at 0x10fae6e50>"
      ]
     },
     "execution_count": 40,
     "metadata": {},
     "output_type": "execute_result"
    },
    {
     "data": {
      "image/png": "[encoded data removed]",
      "text/plain": [
       "<matplotlib.figure.Figure at 0x10e3127d0>"
      ]
     },
     "metadata": {},
     "output_type": "display_data"
    }
   ],
   "source": [
    "master_df[master_df.density < master_df.density.quantile(0.99)].density.hist()"
   ]
  },
  {
   "cell_type": "code",
   "execution_count": 41,
   "metadata": {},
   "outputs": [
    {
     "data": {
      "text/plain": [
       "<seaborn.axisgrid.PairGrid at 0x10fc67a90>"
      ]
     },
     "execution_count": 41,
     "metadata": {},
     "output_type": "execute_result"
    },
    {
     "data": {
      "image/png": "[encoded data removed]",
      "text/plain": [
       "<matplotlib.figure.Figure at 0x10fc67a10>"
      ]
     },
     "metadata": {},
     "output_type": "display_data"
    }
   ],
   "source": [
    "sns.pairplot(master_df[master_df.density < master_df.density.quantile(0.99)], x_vars = [\"crime_counts\",\"call_counts\", \"shelter_counts\"], y_vars = [\"density\"], kind = \"reg\")"
   ]
  },
  {
   "cell_type": "code",
   "execution_count": 42,
   "metadata": {},
   "outputs": [
    {
     "data": {
      "text/plain": [
       "<matplotlib.axes._subplots.AxesSubplot at 0x10decbc10>"
      ]
     },
     "execution_count": 42,
     "metadata": {},
     "output_type": "execute_result"
    },
    {
     "data": {
      "image/png": "[encoded data removed]",
      "text/plain": [
       "<matplotlib.figure.Figure at 0x10db18190>"
      ]
     },
     "metadata": {},
     "output_type": "display_data"
    }
   ],
   "source": [
    "sns.heatmap(master_df[[\"crime_counts\",\"call_counts\", \"shelter_counts\", \"density\"]].corr(), vmax=.8, square=True)"
   ]
  }
 ],
 "metadata": {
  "kernelspec": {
   "display_name": "Python 2",
   "language": "python",
   "name": "python2"
  },
  "language_info": {
   "codemirror_mode": {
    "name": "ipython",
    "version": 2
   },
   "file_extension": ".py",
   "mimetype": "text/x-python",
   "name": "python",
   "nbconvert_exporter": "python",
   "pygments_lexer": "ipython2",
   "version": "2.7.13"
  }
 },
 "nbformat": 4,
 "nbformat_minor": 2
}
